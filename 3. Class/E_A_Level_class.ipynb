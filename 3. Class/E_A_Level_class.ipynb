{
 "cells": [
  {
   "cell_type": "markdown",
   "id": "077ff4b3",
   "metadata": {},
   "source": [
    "### *import all the functions from utils class from file called  utils_file*"
   ]
  },
  {
   "cell_type": "code",
   "execution_count": 2,
   "id": "8a9cc2d3",
   "metadata": {},
   "outputs": [],
   "source": [
    "from utils_file import utils"
   ]
  },
  {
   "cell_type": "markdown",
   "id": "226b76b1",
   "metadata": {},
   "source": [
    "# Create a class and function, and list out the items in the list"
   ]
  },
  {
   "cell_type": "code",
   "execution_count": 5,
   "id": "3e11859a",
   "metadata": {},
   "outputs": [
    {
     "name": "stdout",
     "output_type": "stream",
     "text": [
      "Sub-fields in AI are:\n",
      "Machine Learning\n",
      "Neural Networks\n",
      "Vision.Robotics\n",
      "Speech Processing\n",
      "Natural Language Processing\n"
     ]
    }
   ],
   "source": [
    "subfields_instance = utils.Subfields()"
   ]
  },
  {
   "cell_type": "markdown",
   "id": "5b81bac5",
   "metadata": {},
   "source": []
  },
  {
   "cell_type": "markdown",
   "id": "45b2c2f2",
   "metadata": {},
   "source": [
    "# Create a function that checks whether the given number is Odd or Even "
   ]
  },
  {
   "cell_type": "code",
   "execution_count": 6,
   "id": "14a3c3dc",
   "metadata": {},
   "outputs": [
    {
     "name": "stdout",
     "output_type": "stream",
     "text": [
      "52452 is Even number.\n"
     ]
    }
   ],
   "source": [
    "# Call the OddEven function with the number 52452\n",
    "utils.OddEven()"
   ]
  },
  {
   "cell_type": "markdown",
   "id": "faf69913",
   "metadata": {},
   "source": []
  },
  {
   "cell_type": "markdown",
   "id": "cc059d08",
   "metadata": {},
   "source": [
    "# Create a function that tells elegibility of marriage for male and female according to their age limit like 21 for male and 18 for female"
   ]
  },
  {
   "cell_type": "code",
   "execution_count": 7,
   "id": "2862375e",
   "metadata": {},
   "outputs": [
    {
     "name": "stdout",
     "output_type": "stream",
     "text": [
      "NOT ELIGIBLE\n"
     ]
    }
   ],
   "source": [
    "utils.Elegible()"
   ]
  },
  {
   "cell_type": "markdown",
   "id": "775ac2b9",
   "metadata": {},
   "source": []
  },
  {
   "cell_type": "markdown",
   "id": "c60ddea6",
   "metadata": {},
   "source": [
    "# Calculate the percentage of your 10th mark "
   ]
  },
  {
   "cell_type": "code",
   "execution_count": 8,
   "id": "83739c1f",
   "metadata": {},
   "outputs": [
    {
     "name": "stdout",
     "output_type": "stream",
     "text": [
      "Subject1= 98\n",
      "Subject2= 87\n",
      "Subject3= 95\n",
      "Subject4= 95\n",
      "Subject5= 93\n",
      "Total :  468 \n",
      "Percentage :  93.60000000000001\n"
     ]
    }
   ],
   "source": [
    "utils.percentage() "
   ]
  },
  {
   "cell_type": "markdown",
   "id": "121220f0",
   "metadata": {},
   "source": []
  },
  {
   "cell_type": "markdown",
   "id": "c8fcff89",
   "metadata": {},
   "source": [
    "# Print area and perimeter of triangle using class and functions"
   ]
  },
  {
   "cell_type": "code",
   "execution_count": 9,
   "id": "b0399ca1",
   "metadata": {},
   "outputs": [
    {
     "name": "stdout",
     "output_type": "stream",
     "text": [
      "Height:32\n",
      "Breadth:34\n",
      "Area formula: (Height*Breadth)/2\n",
      "Area of Triangle:  544.0\n",
      "Height1:2\n",
      "Height2:4\n",
      "Breadth:4\n",
      "Perimeter formula: Height1+Height2+Breadth\n",
      "Perimeter of Triangle:  10\n"
     ]
    }
   ],
   "source": [
    "utils.triangle() "
   ]
  }
 ],
 "metadata": {
  "kernelspec": {
   "display_name": "base",
   "language": "python",
   "name": "python3"
  },
  "language_info": {
   "codemirror_mode": {
    "name": "ipython",
    "version": 3
   },
   "file_extension": ".py",
   "mimetype": "text/x-python",
   "name": "python",
   "nbconvert_exporter": "python",
   "pygments_lexer": "ipython3",
   "version": "3.12.7"
  }
 },
 "nbformat": 4,
 "nbformat_minor": 5
}
