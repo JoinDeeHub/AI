{
 "cells": [
  {
   "cell_type": "markdown",
   "id": "d4463781",
   "metadata": {},
   "source": [
    "# Print Statement"
   ]
  },
  {
   "cell_type": "code",
   "execution_count": 1,
   "id": "67d7fd0e",
   "metadata": {},
   "outputs": [
    {
     "name": "stdout",
     "output_type": "stream",
     "text": [
      "HOPE AI\n"
     ]
    }
   ],
   "source": [
    "print(\"HOPE AI\")"
   ]
  },
  {
   "cell_type": "markdown",
   "id": "ed7f80d7",
   "metadata": {},
   "source": [
    "# By input "
   ]
  },
  {
   "cell_type": "code",
   "execution_count": 2,
   "id": "78e2b811",
   "metadata": {},
   "outputs": [],
   "source": [
    "name = str(input(\"Enter your institute name? : \"))"
   ]
  },
  {
   "cell_type": "markdown",
   "id": "b4802a48",
   "metadata": {},
   "source": [
    "# By inputs "
   ]
  },
  {
   "cell_type": "code",
   "execution_count": 5,
   "id": "a47c26d5",
   "metadata": {},
   "outputs": [
    {
     "data": {
      "text/plain": [
       "'Enter your name: Raj \\nEnter your age: 15 \\nEnter your school name: Guru school\\nEnter your drgree: B.E CSE '"
      ]
     },
     "execution_count": 5,
     "metadata": {},
     "output_type": "execute_result"
    }
   ],
   "source": [
    "name = str(input(\"Enter your name: \\n\"))\n",
    "age = int(input(\"Enter your age: \\n\"))\n",
    "school_name = str(input(\"Enter your school name: \\n\"))\n",
    "degree = str(input(\"Enter your drgree: \\n\"))\n",
    "\n",
    "\"\"\"Enter your name: Raj \n",
    "Enter your age: 15 \n",
    "Enter your school name: Guru school\n",
    "Enter your drgree: B.E CSE \"\"\""
   ]
  },
  {
   "cell_type": "markdown",
   "id": "a24a78de",
   "metadata": {},
   "source": [
    "# Addition"
   ]
  },
  {
   "cell_type": "code",
   "execution_count": 7,
   "id": "8eeb02bb",
   "metadata": {},
   "outputs": [
    {
     "name": "stdout",
     "output_type": "stream",
     "text": [
      "a=  43\n",
      "b=  34\n",
      "add=  77\n"
     ]
    }
   ],
   "source": [
    "a= 43 \n",
    "b= 34 \n",
    "add = a+b\n",
    "\n",
    "print(\"a= \", a)\n",
    "print(\"b= \", b)\n",
    "print(\"add= \", add)"
   ]
  },
  {
   "cell_type": "markdown",
   "id": "f67bd19f",
   "metadata": {},
   "source": [
    "# Subtraction"
   ]
  },
  {
   "cell_type": "code",
   "execution_count": 9,
   "id": "5d8ba49e",
   "metadata": {},
   "outputs": [
    {
     "name": "stdout",
     "output_type": "stream",
     "text": [
      "a=  43\n",
      "b=  34\n",
      "Sub=  9\n"
     ]
    }
   ],
   "source": [
    "a= 43 \n",
    "b= 34 \n",
    "Sub = a-b\n",
    "\n",
    "print(\"a= \", a)\n",
    "print(\"b= \", b)\n",
    "print(\"Sub= \", Sub)"
   ]
  },
  {
   "cell_type": "markdown",
   "id": "68370b83",
   "metadata": {},
   "source": [
    "# Multiplication"
   ]
  },
  {
   "cell_type": "code",
   "execution_count": 11,
   "id": "1322a49b",
   "metadata": {},
   "outputs": [
    {
     "name": "stdout",
     "output_type": "stream",
     "text": [
      "a=  63\n",
      "b=  97\n",
      "add=  6111\n"
     ]
    }
   ],
   "source": [
    "a= 63 \n",
    "b= 97 \n",
    "Mul = a*b\n",
    "\n",
    "print(\"a= \", a)\n",
    "print(\"b= \", b)\n",
    "print(\"add= \", Mul)"
   ]
  },
  {
   "cell_type": "markdown",
   "id": "829bbbf1",
   "metadata": {},
   "source": [
    "# Division"
   ]
  },
  {
   "cell_type": "code",
   "execution_count": 12,
   "id": "be17ca9c",
   "metadata": {},
   "outputs": [
    {
     "name": "stdout",
     "output_type": "stream",
     "text": [
      "a=  76\n",
      "b=  31\n",
      "Float Div=  2.4516129032258065\n"
     ]
    }
   ],
   "source": [
    "a= 76 \n",
    "b= 31\n",
    "Div = a/b\n",
    "\n",
    "print(\"a= \", a)\n",
    "print(\"b= \", b)\n",
    "print(\"Float Div= \", Div)"
   ]
  },
  {
   "cell_type": "markdown",
   "id": "46462a9f",
   "metadata": {},
   "source": [
    "# Floor division"
   ]
  },
  {
   "cell_type": "code",
   "execution_count": 14,
   "id": "3bc6a701",
   "metadata": {},
   "outputs": [
    {
     "name": "stdout",
     "output_type": "stream",
     "text": [
      "a=  76\n",
      "b=  31\n",
      "Floor Div=  2\n"
     ]
    }
   ],
   "source": [
    "from math import floor\n",
    "\n",
    "\n",
    "a= 76 \n",
    "b= 31\n",
    "Div = floor(a/b)\n",
    "\n",
    "print(\"a= \", a)\n",
    "print(\"b= \", b)\n",
    "print(\"Floor Div= \", Div)"
   ]
  },
  {
   "cell_type": "markdown",
   "id": "95963053",
   "metadata": {},
   "source": [
    "# Modulo"
   ]
  },
  {
   "cell_type": "code",
   "execution_count": 15,
   "id": "772b7e13",
   "metadata": {},
   "outputs": [
    {
     "name": "stdout",
     "output_type": "stream",
     "text": [
      "a=  76\n",
      "b=  31\n",
      "Modulo=  14\n"
     ]
    }
   ],
   "source": [
    "a= 76 \n",
    "b= 31\n",
    "Modulo = a%b\n",
    "\n",
    "print(\"a= \", a)\n",
    "print(\"b= \", b)\n",
    "print(\"Modulo= \", Modulo)"
   ]
  },
  {
   "cell_type": "markdown",
   "id": "1ca2320c",
   "metadata": {},
   "source": [
    "# Power"
   ]
  },
  {
   "cell_type": "code",
   "execution_count": 16,
   "id": "982049bf",
   "metadata": {},
   "outputs": [
    {
     "name": "stdout",
     "output_type": "stream",
     "text": [
      "a=  4\n",
      "b=  4\n",
      "Power=  256\n"
     ]
    }
   ],
   "source": [
    "a= 4 \n",
    "b= 4\n",
    "Power = a**b\n",
    "\n",
    "print(\"a= \", a)\n",
    "print(\"b= \", b)\n",
    "print(\"Power= \", Power)"
   ]
  }
 ],
 "metadata": {
  "kernelspec": {
   "display_name": "base",
   "language": "python",
   "name": "python3"
  },
  "language_info": {
   "codemirror_mode": {
    "name": "ipython",
    "version": 3
   },
   "file_extension": ".py",
   "mimetype": "text/x-python",
   "name": "python",
   "nbconvert_exporter": "python",
   "pygments_lexer": "ipython3",
   "version": "3.12.7"
  }
 },
 "nbformat": 4,
 "nbformat_minor": 5
}
