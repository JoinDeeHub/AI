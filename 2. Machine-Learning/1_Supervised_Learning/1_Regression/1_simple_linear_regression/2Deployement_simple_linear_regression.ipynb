{
 "cells": [
  {
   "cell_type": "markdown",
   "id": "7d0e7b9e",
   "metadata": {},
   "source": [
    "# Simple Linear Regression stage two - Deployment"
   ]
  },
  {
   "cell_type": "code",
   "execution_count": 5,
   "id": "fb63d109",
   "metadata": {},
   "outputs": [
    {
     "name": "stdout",
     "output_type": "stream",
     "text": [
      "\n",
      "Predicted Salary for 10 years of experience: [[119905.85041792]]\n",
      "\n",
      "\n"
     ]
    },
    {
     "name": "stderr",
     "output_type": "stream",
     "text": [
      "/home/deehub/JoinDeeHub/.venv/lib/python3.12/site-packages/sklearn/utils/validation.py:2739: UserWarning: X does not have valid feature names, but LinearRegression was fitted with feature names\n",
      "  warnings.warn(\n"
     ]
    }
   ],
   "source": [
    "import pickle\n",
    "\n",
    "# Load the model\n",
    "load_model = pickle.load(open(\"salary_linear_r_model.pkl\", 'rb'))\n",
    "result = load_model.predict([[10]])\n",
    "print(f\"\\nPredicted Salary for 10 years of experience: {result}\\n\\n\")\n",
    "# The above code is a simple linear regression model that predicts salary based on years of experience.\n",
    "# It uses the scikit-learn library for model creation and evaluation, and the pickle library for saving and loading the model.\n",
    "# The model is trained on a dataset of salary and years of experience, and the prediction is made for 10 years of experience.\n",
    "# The model is saved to a file named 'salary_linear_r_model.pkl' and loaded back for making predictions.\n",
    "# The predicted salary for 10 years of experience is printed to the console."
   ]
  }
 ],
 "metadata": {
  "kernelspec": {
   "display_name": ".venv",
   "language": "python",
   "name": "python3"
  },
  "language_info": {
   "codemirror_mode": {
    "name": "ipython",
    "version": 3
   },
   "file_extension": ".py",
   "mimetype": "text/x-python",
   "name": "python",
   "nbconvert_exporter": "python",
   "pygments_lexer": "ipython3",
   "version": "3.12.7"
  }
 },
 "nbformat": 4,
 "nbformat_minor": 5
}
