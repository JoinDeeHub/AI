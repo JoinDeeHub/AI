{
 "cells": [
  {
   "cell_type": "markdown",
   "id": "6276e4ea",
   "metadata": {},
   "source": [
    "## Concept: Predicting Daily CO₂ Emissions from Car Travel Based on Distance Driven\n",
    "# Description:\n",
    "#### This dataset models the relationship between the daily distance a person drives (in kilometers) and the resulting CO₂ emissions (in kilograms). This is a valuable sustainability metric for understanding the environmental impact of personal transportation and encouraging more sustainable commuting habits.\n",
    "\n",
    "#### Columns:\n",
    "\n",
    "##### DistanceKm (Distance driven per day in kilometers)\n",
    "##### CO2Kg (CO₂ emissions per day in kilograms)"
   ]
  },
  {
   "cell_type": "code",
   "execution_count": 1,
   "id": "3607919f",
   "metadata": {},
   "outputs": [
    {
     "data": {
      "text/html": [
       "<div>\n",
       "<style scoped>\n",
       "    .dataframe tbody tr th:only-of-type {\n",
       "        vertical-align: middle;\n",
       "    }\n",
       "\n",
       "    .dataframe tbody tr th {\n",
       "        vertical-align: top;\n",
       "    }\n",
       "\n",
       "    .dataframe thead th {\n",
       "        text-align: right;\n",
       "    }\n",
       "</style>\n",
       "<table border=\"1\" class=\"dataframe\">\n",
       "  <thead>\n",
       "    <tr style=\"text-align: right;\">\n",
       "      <th></th>\n",
       "      <th>DistanceKm</th>\n",
       "      <th>CO2Kg</th>\n",
       "    </tr>\n",
       "  </thead>\n",
       "  <tbody>\n",
       "    <tr>\n",
       "      <th>0</th>\n",
       "      <td>4.7</td>\n",
       "      <td>1.04</td>\n",
       "    </tr>\n",
       "    <tr>\n",
       "      <th>1</th>\n",
       "      <td>5.2</td>\n",
       "      <td>1.11</td>\n",
       "    </tr>\n",
       "    <tr>\n",
       "      <th>2</th>\n",
       "      <td>5.5</td>\n",
       "      <td>1.23</td>\n",
       "    </tr>\n",
       "    <tr>\n",
       "      <th>3</th>\n",
       "      <td>6.1</td>\n",
       "      <td>1.29</td>\n",
       "    </tr>\n",
       "    <tr>\n",
       "      <th>4</th>\n",
       "      <td>6.6</td>\n",
       "      <td>1.39</td>\n",
       "    </tr>\n",
       "    <tr>\n",
       "      <th>...</th>\n",
       "      <td>...</td>\n",
       "      <td>...</td>\n",
       "    </tr>\n",
       "    <tr>\n",
       "      <th>98</th>\n",
       "      <td>55.3</td>\n",
       "      <td>12.67</td>\n",
       "    </tr>\n",
       "    <tr>\n",
       "      <th>99</th>\n",
       "      <td>55.8</td>\n",
       "      <td>12.82</td>\n",
       "    </tr>\n",
       "    <tr>\n",
       "      <th>100</th>\n",
       "      <td>56.2</td>\n",
       "      <td>12.96</td>\n",
       "    </tr>\n",
       "    <tr>\n",
       "      <th>101</th>\n",
       "      <td>56.8</td>\n",
       "      <td>13.09</td>\n",
       "    </tr>\n",
       "    <tr>\n",
       "      <th>102</th>\n",
       "      <td>57.3</td>\n",
       "      <td>13.23</td>\n",
       "    </tr>\n",
       "  </tbody>\n",
       "</table>\n",
       "<p>103 rows × 2 columns</p>\n",
       "</div>"
      ],
      "text/plain": [
       "     DistanceKm  CO2Kg\n",
       "0           4.7   1.04\n",
       "1           5.2   1.11\n",
       "2           5.5   1.23\n",
       "3           6.1   1.29\n",
       "4           6.6   1.39\n",
       "..          ...    ...\n",
       "98         55.3  12.67\n",
       "99         55.8  12.82\n",
       "100        56.2  12.96\n",
       "101        56.8  13.09\n",
       "102        57.3  13.23\n",
       "\n",
       "[103 rows x 2 columns]"
      ]
     },
     "metadata": {},
     "output_type": "display_data"
    }
   ],
   "source": [
    "import pandas as pd\n",
    "\n",
    "# Load the dataset\n",
    "\n",
    "dataset = pd.read_csv(\"car_travel_co2_emissions.csv\")\n",
    "\n",
    "display(dataset)\n"
   ]
  },
  {
   "cell_type": "code",
   "execution_count": 4,
   "id": "60923b2d",
   "metadata": {},
   "outputs": [
    {
     "name": "stdout",
     "output_type": "stream",
     "text": [
      "\n",
      "Predicted CO2Kg for 60.0 Km: [[13.65349697]]\n",
      "\n",
      "\n"
     ]
    },
    {
     "name": "stderr",
     "output_type": "stream",
     "text": [
      "/home/deehub/JoinDeeHub/.venv/lib/python3.12/site-packages/sklearn/utils/validation.py:2739: UserWarning: X does not have valid feature names, but LinearRegression was fitted with feature names\n",
      "  warnings.warn(\n"
     ]
    }
   ],
   "source": [
    "import pickle\n",
    "# Save the model\n",
    "good_fit_model_name = 'CO2Kg_linear_r_model.pkl'   #file_name = 'CO2Kg_linear_r_model.sav'\n",
    "\n",
    "# Load the model\n",
    "load_good_fit_model = pickle.load(open(good_fit_model_name, \"rb\"))\n",
    "\n",
    "km = float(input(\"Enter km to Predict CO2Kg: \"))\n",
    "Result = load_good_fit_model.predict([[km]])\n",
    "print(f\"\\nPredicted CO2Kg for {km} Km: {Result}\\n\\n\")"
   ]
  }
 ],
 "metadata": {
  "kernelspec": {
   "display_name": ".venv",
   "language": "python",
   "name": "python3"
  },
  "language_info": {
   "codemirror_mode": {
    "name": "ipython",
    "version": 3
   },
   "file_extension": ".py",
   "mimetype": "text/x-python",
   "name": "python",
   "nbconvert_exporter": "python",
   "pygments_lexer": "ipython3",
   "version": "3.12.7"
  }
 },
 "nbformat": 4,
 "nbformat_minor": 5
}
