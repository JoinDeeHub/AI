{
 "cells": [
  {
   "cell_type": "markdown",
   "id": "67a8c92b",
   "metadata": {},
   "source": [
    "Git Hub Link: https://raw.githubusercontent.com/RamishaRaniK/dataset/main/insurance_pre.csv\n",
    "\n",
    "\n",
    "**Problem Statement or Requirement:**\n",
    "\n",
    "\n",
    "A client’s requirement is, he wants to predict the insurance charges based on\n",
    "the several parameters. The Client has provided the dataset of the same.\n",
    "As a data scientist, you must develop a model which will predict the insurance\n",
    "charges.\n",
    "\n",
    "1.) Identify your problem statement\n",
    "\n",
    "2.) Tell basic info about the dataset (Total number of rows, columns)\n",
    "\n",
    "3.) Mention the pre-processing method if you’re doing any (like converting\n",
    "string to number – nominal data)\n",
    "\n",
    "4.) Develop a good model with r2_score. You can use any machine learning\n",
    "algorithm; you can create many models. Finally, you have to come up\n",
    "with final model.\n",
    "\n",
    "5.) All the research values (r2_score of the models) should be documented.\n",
    "(You can make tabulation or screenshot of the results.)\n",
    "\n",
    "6.) Mention your final model, justify why u have chosen the same."
   ]
  },
  {
   "cell_type": "markdown",
   "id": "0caf6beb",
   "metadata": {},
   "source": [
    "_______________________________________"
   ]
  },
  {
   "cell_type": "markdown",
   "id": "b031a665",
   "metadata": {},
   "source": [
    "1.) Identify your problem statement\n",
    "The problem statement is to predict the insurance charges based on various parameters\n",
    "such as age\n",
    "## Domain is ML\n",
    "## Learning Type is Supervised Learning\n",
    "## Problem is Regression as they have clear requirement of predicting the insurance charges\n",
    "The dataset contains information about individuals, including their age and many more features, so it is a multileaner regression problem. \n"
   ]
  },
  {
   "cell_type": "markdown",
   "id": "da6833b6",
   "metadata": {},
   "source": [
    "_______________________________________"
   ]
  },
  {
   "cell_type": "markdown",
   "id": "00e78174",
   "metadata": {},
   "source": [
    "#2.) Tell basic info about the dataset (Total number of rows, columns)\n"
   ]
  },
  {
   "cell_type": "code",
   "execution_count": 96,
   "id": "2ba88edf",
   "metadata": {},
   "outputs": [
    {
     "name": "stdout",
     "output_type": "stream",
     "text": [
      "The dataset contains 1338 rows and 6 columns.\n",
      "      age     sex     bmi  children smoker      charges\n",
      "0      19  female  27.900         0    yes  16884.92400\n",
      "1      18    male  33.770         1     no   1725.55230\n",
      "2      28    male  33.000         3     no   4449.46200\n",
      "3      33    male  22.705         0     no  21984.47061\n",
      "4      32    male  28.880         0     no   3866.85520\n",
      "...   ...     ...     ...       ...    ...          ...\n",
      "1333   50    male  30.970         3     no  10600.54830\n",
      "1334   18  female  31.920         0     no   2205.98080\n",
      "1335   18  female  36.850         0     no   1629.83350\n",
      "1336   21  female  25.800         0     no   2007.94500\n",
      "1337   61  female  29.070         0    yes  29141.36030\n",
      "\n",
      "[1338 rows x 6 columns]\n"
     ]
    }
   ],
   "source": [
    "import pandas as pd\n",
    "# Load the dataset\n",
    "data = pd.read_csv(\"insurance_pre.csv\")\n",
    "\n",
    "# The dataset contains the following number of rows and columns\n",
    "rows, columns = data.shape\n",
    "print(f\"The dataset contains {rows} rows and {columns} columns.\")\n",
    "print(data)"
   ]
  },
  {
   "cell_type": "markdown",
   "id": "7b27bbe7",
   "metadata": {},
   "source": [
    "_______________________________________"
   ]
  },
  {
   "cell_type": "markdown",
   "id": "c19f5db2",
   "metadata": {},
   "source": [
    "3.) Mention the pre-processing method if you’re doing any (like converting string to number – nominal data)  \n",
    " "
   ]
  },
  {
   "cell_type": "code",
   "execution_count": 97,
   "id": "c83fcdf7",
   "metadata": {},
   "outputs": [
    {
     "name": "stdout",
     "output_type": "stream",
     "text": [
      "   age     bmi  children      charges  sex_male  smoker_yes\n",
      "0   19  27.900         0  16884.92400     False        True\n",
      "1   18  33.770         1   1725.55230      True       False\n",
      "2   28  33.000         3   4449.46200      True       False\n",
      "3   33  22.705         0  21984.47061      True       False\n",
      "4   32  28.880         0   3866.85520      True       False\n",
      "Index(['age', 'bmi', 'children', 'charges', 'sex_male', 'smoker_yes'], dtype='object')\n",
      "age             int64\n",
      "bmi           float64\n",
      "children        int64\n",
      "charges       float64\n",
      "sex_male         bool\n",
      "smoker_yes       bool\n",
      "dtype: object\n"
     ]
    }
   ],
   "source": [
    "# The dataset contains categorical variables\n",
    "# Convert categorical variables to numerical using one-hot encoding as they are nominal variables.\n",
    "data = pd.get_dummies(data, drop_first=True) #as no comes 1st in alphabetical order - it will be dropped\n",
    "# The dataset now contains only numerical values\n",
    "# Check the first few rows of the dataset\n",
    "print(data.head())\n",
    "# Check the columns of the dataset\n",
    "print(data.columns)\n",
    "# Check the data types of the columns\n",
    "print(data.dtypes) "
   ]
  },
  {
   "cell_type": "markdown",
   "id": "5bc63752",
   "metadata": {},
   "source": [
    "_______________________________________"
   ]
  },
  {
   "cell_type": "markdown",
   "id": "f4786595",
   "metadata": {},
   "source": [
    "#4.) Develop a good model with r2_score. You can use any machine learning algorithm; you can create many models. Finally, you have to come up with final model."
   ]
  },
  {
   "cell_type": "code",
   "execution_count": 98,
   "id": "3b2fca65",
   "metadata": {},
   "outputs": [],
   "source": [
    "# Split the dataset into independent and dependent variables\n",
    "independent_variables = data[['age', 'bmi', 'children', 'sex_male', 'smoker_yes']]\n",
    "\n",
    "dependent_variables = data[['charges']]\n",
    "# Split the dataset into training and testing sets\n",
    "from sklearn.model_selection import train_test_split\n",
    "X_train, X_test, y_train, y_test = train_test_split(independent_variables, dependent_variables, test_size=0.2, random_state=0)\n"
   ]
  },
  {
   "cell_type": "code",
   "execution_count": 99,
   "id": "bf75fb81",
   "metadata": {},
   "outputs": [],
   "source": [
    "# Standardize the features\n",
    "###################### Inorder to improve the performance of the model, lets used \"Standardization Method\", - we will scale the features using StandardScaler\n",
    "from sklearn.preprocessing import StandardScaler\n",
    "# Create a StandardScaler object\n",
    "scaler = StandardScaler()\n",
    "X_train = scaler.fit_transform(X_train)\n",
    "X_test = scaler.transform(X_test)"
   ]
  },
  {
   "cell_type": "markdown",
   "id": "2879c6fb",
   "metadata": {},
   "source": [
    "#### LinearRegression Model"
   ]
  },
  {
   "cell_type": "code",
   "execution_count": 100,
   "id": "b8fa7c8f",
   "metadata": {},
   "outputs": [
    {
     "name": "stdout",
     "output_type": "stream",
     "text": [
      "R2 Score: 0.7978644236809905\n"
     ]
    }
   ],
   "source": [
    "# Import the LinearRegression from sklearn.model_selection\n",
    "from sklearn.linear_model import LinearRegression\n",
    "# Create the Linear Regression model\n",
    "regressor = LinearRegression()\n",
    "# Fit the model to the training data\n",
    "regressor.fit(X_train, y_train)\n",
    "# Predict the results\n",
    "y_pred = regressor.predict(X_test)\n",
    "from sklearn.metrics import r2_score\n",
    "# Calculate the R2 score\n",
    "r2 = r2_score(y_test, y_pred)\n",
    "print(f\"R2 Score: {r2}\")"
   ]
  },
  {
   "cell_type": "markdown",
   "id": "ec886ba8",
   "metadata": {},
   "source": [
    "_______________________________________"
   ]
  },
  {
   "cell_type": "markdown",
   "id": "4688bae1",
   "metadata": {},
   "source": [
    "#### SVR Model"
   ]
  },
  {
   "cell_type": "markdown",
   "id": "c68d6b56",
   "metadata": {},
   "source": [
    "Using the \"linear\" kernel"
   ]
  },
  {
   "cell_type": "code",
   "execution_count": 101,
   "id": "21c5a593",
   "metadata": {},
   "outputs": [
    {
     "name": "stdout",
     "output_type": "stream",
     "text": [
      "R2 Score: 0.6423323553032765\n",
      "\n"
     ]
    },
    {
     "name": "stderr",
     "output_type": "stream",
     "text": [
      "/home/deehub/JoinDeeHub/.venv/lib/python3.10/site-packages/sklearn/utils/validation.py:1408: DataConversionWarning: A column-vector y was passed when a 1d array was expected. Please change the shape of y to (n_samples, ), for example using ravel().\n",
      "  y = column_or_1d(y, warn=True)\n"
     ]
    }
   ],
   "source": [
    "#SVM - Support Vector Machine, regression method\n",
    "from sklearn.svm import SVR\n",
    "# Create the SVR model\n",
    "regressor = SVR(kernel='linear', C=100, gamma='scale', epsilon=.1)\n",
    "# Fit the model to the training data\n",
    "regressor.fit(X_train, y_train)\n",
    "# Predict the results\n",
    "y_pred = regressor.predict(X_test)\n",
    "from sklearn.metrics import r2_score\n",
    "# Calculate the R2 score\n",
    "r2 = r2_score(y_test, y_pred)\n",
    "print(f\"R2 Score: {r2}\\n\")"
   ]
  },
  {
   "cell_type": "markdown",
   "id": "2f662da9",
   "metadata": {},
   "source": [
    "Using the \"rbf\" kernel"
   ]
  },
  {
   "cell_type": "code",
   "execution_count": 102,
   "id": "f70f2417",
   "metadata": {},
   "outputs": [
    {
     "name": "stderr",
     "output_type": "stream",
     "text": [
      "/home/deehub/JoinDeeHub/.venv/lib/python3.10/site-packages/sklearn/utils/validation.py:1408: DataConversionWarning: A column-vector y was passed when a 1d array was expected. Please change the shape of y to (n_samples, ), for example using ravel().\n",
      "  y = column_or_1d(y, warn=True)\n"
     ]
    },
    {
     "name": "stdout",
     "output_type": "stream",
     "text": [
      "\n",
      " R2 Score: 0.8870555499325374\n",
      "\n"
     ]
    }
   ],
   "source": [
    "#SVM - Support Vector Machine, regression method\n",
    "from sklearn.svm import SVR\n",
    "# Create the SVR model\n",
    "regressor = SVR(kernel='rbf', C=100000, gamma='scale', epsilon=.1)\n",
    "# Fit the model to the training data\n",
    "regressor.fit(X_train, y_train)\n",
    "# Predict the results\n",
    "y_pred = regressor.predict(X_test)\n",
    "from sklearn.metrics import r2_score\n",
    "# Calculate the R2 score\n",
    "r2 = r2_score(y_test, y_pred)\n",
    "print(f\"\\n R2 Score: {r2}\\n\")"
   ]
  },
  {
   "cell_type": "markdown",
   "id": "bec9da8a",
   "metadata": {},
   "source": [
    "Using the \"poly\" kernel"
   ]
  },
  {
   "cell_type": "code",
   "execution_count": 103,
   "id": "d84f56a0",
   "metadata": {},
   "outputs": [
    {
     "name": "stdout",
     "output_type": "stream",
     "text": [
      "R2 Score: 0.6591216048381952\n",
      "\n"
     ]
    },
    {
     "name": "stderr",
     "output_type": "stream",
     "text": [
      "/home/deehub/JoinDeeHub/.venv/lib/python3.10/site-packages/sklearn/utils/validation.py:1408: DataConversionWarning: A column-vector y was passed when a 1d array was expected. Please change the shape of y to (n_samples, ), for example using ravel().\n",
      "  y = column_or_1d(y, warn=True)\n"
     ]
    }
   ],
   "source": [
    "#SVM - Support Vector Machine, regression method\n",
    "from sklearn.svm import SVR\n",
    "# Create the SVR model\n",
    "regressor = SVR(kernel='poly', C=100, gamma='scale', epsilon=.1)\n",
    "# Fit the model to the training data\n",
    "regressor.fit(X_train, y_train)\n",
    "# Predict the results\n",
    "y_pred = regressor.predict(X_test)\n",
    "from sklearn.metrics import r2_score\n",
    "# Calculate the R2 score\n",
    "r2 = r2_score(y_test, y_pred)\n",
    "print(f\"R2 Score: {r2}\\n\")"
   ]
  },
  {
   "cell_type": "markdown",
   "id": "f98e10d1",
   "metadata": {},
   "source": [
    "Using the \"sigmod\" kernel"
   ]
  },
  {
   "cell_type": "code",
   "execution_count": 104,
   "id": "5d0b3ad8",
   "metadata": {},
   "outputs": [
    {
     "name": "stdout",
     "output_type": "stream",
     "text": [
      "R2 Score: 0.5353164568930158\n",
      "\n"
     ]
    },
    {
     "name": "stderr",
     "output_type": "stream",
     "text": [
      "/home/deehub/JoinDeeHub/.venv/lib/python3.10/site-packages/sklearn/utils/validation.py:1408: DataConversionWarning: A column-vector y was passed when a 1d array was expected. Please change the shape of y to (n_samples, ), for example using ravel().\n",
      "  y = column_or_1d(y, warn=True)\n"
     ]
    }
   ],
   "source": [
    "#SVM - Support Vector Machine, regression method\n",
    "from sklearn.svm import SVR\n",
    "# Create the SVR model\n",
    "regressor = SVR(kernel='sigmoid', C=100, gamma='scale', epsilon=.1)\n",
    "# Fit the model to the training data\n",
    "regressor.fit(X_train, y_train)\n",
    "# Predict the results\n",
    "y_pred = regressor.predict(X_test)\n",
    "from sklearn.metrics import r2_score\n",
    "# Calculate the R2 score\n",
    "r2 = r2_score(y_test, y_pred)\n",
    "print(f\"R2 Score: {r2}\\n\")"
   ]
  },
  {
   "cell_type": "markdown",
   "id": "85749f52",
   "metadata": {},
   "source": [
    "Using the \"precomputed\" kernel\n",
    "\n",
    "                ##########################   ValueError: Precomputed matrix must be a square matrix. Input is a 40x6 matrix.                         \n"
   ]
  },
  {
   "cell_type": "markdown",
   "id": "4db837de",
   "metadata": {},
   "source": [
    "_______________________________________"
   ]
  },
  {
   "cell_type": "markdown",
   "id": "b0def105",
   "metadata": {},
   "source": [
    "#### Decision Tree Regressor Model"
   ]
  },
  {
   "cell_type": "markdown",
   "id": "dd6a5831",
   "metadata": {},
   "source": [
    "criterion='poisson', splitter='random'"
   ]
  },
  {
   "cell_type": "code",
   "execution_count": 105,
   "id": "6b6ee46c",
   "metadata": {},
   "outputs": [
    {
     "name": "stdout",
     "output_type": "stream",
     "text": [
      "R2 Score: 0.788969844221026\n"
     ]
    }
   ],
   "source": [
    "# Import the Decision Tree Regressor from sklearn.tree\n",
    "from sklearn.tree import DecisionTreeRegressor\n",
    "# Create the DecisionTreeRegressor with specific criterion and splitter\n",
    "regressor = DecisionTreeRegressor(criterion='poisson', splitter='random')\n",
    "# Fit the model to the training data\n",
    "regressor.fit(X_train, y_train)\n",
    "# Predict the results\n",
    "y_pred = regressor.predict(X_test)\n",
    "\n",
    "from sklearn.metrics import r2_score\n",
    "# Calculate the R2 score\n",
    "r2 = r2_score(y_test, y_pred)\n",
    "print(f\"R2 Score: {r2}\")"
   ]
  },
  {
   "cell_type": "code",
   "execution_count": 106,
   "id": "e8f69501",
   "metadata": {},
   "outputs": [
    {
     "name": "stdout",
     "output_type": "stream",
     "text": [
      "R2 Score: 0.7831900397331205\n"
     ]
    }
   ],
   "source": [
    "# Import the Decision Tree Regressor from sklearn.tree\n",
    "from sklearn.tree import DecisionTreeRegressor\n",
    "# Create the DecisionTreeRegressor with specific criterion and splitter\n",
    "regressor = DecisionTreeRegressor(criterion='poisson', splitter='best')\n",
    "# Fit the model to the training data\n",
    "regressor.fit(X_train, y_train)\n",
    "# Predict the results\n",
    "y_pred = regressor.predict(X_test)\n",
    "\n",
    "from sklearn.metrics import r2_score\n",
    "# Calculate the R2 score\n",
    "r2 = r2_score(y_test, y_pred)\n",
    "print(f\"R2 Score: {r2}\")"
   ]
  },
  {
   "cell_type": "markdown",
   "id": "1b3bc58d",
   "metadata": {},
   "source": [
    "criterion='squared_error', splitter='best'"
   ]
  },
  {
   "cell_type": "code",
   "execution_count": 107,
   "id": "b43c56a9",
   "metadata": {},
   "outputs": [
    {
     "name": "stdout",
     "output_type": "stream",
     "text": [
      "R2 Score: 0.7487994461010957\n"
     ]
    }
   ],
   "source": [
    "# Import the Decision Tree Regressor from sklearn.tree\n",
    "from sklearn.tree import DecisionTreeRegressor\n",
    "# Create the DecisionTreeRegressor with specific criterion and splitter\n",
    "regressor = DecisionTreeRegressor(criterion='squared_error', splitter='best')\n",
    "# Fit the model to the training data\n",
    "regressor.fit(X_train, y_train)\n",
    "# Predict the results\n",
    "y_pred = regressor.predict(X_test)\n",
    "\n",
    "from sklearn.metrics import r2_score\n",
    "# Calculate the R2 score\n",
    "r2 = r2_score(y_test, y_pred)\n",
    "print(f\"R2 Score: {r2}\")"
   ]
  },
  {
   "cell_type": "code",
   "execution_count": 108,
   "id": "6a4cc207",
   "metadata": {},
   "outputs": [
    {
     "name": "stdout",
     "output_type": "stream",
     "text": [
      "R2 Score: 0.7136881660147943\n"
     ]
    }
   ],
   "source": [
    "# Import the Decision Tree Regressor from sklearn.tree\n",
    "from sklearn.tree import DecisionTreeRegressor\n",
    "# Create the DecisionTreeRegressor with specific criterion and splitter\n",
    "regressor = DecisionTreeRegressor(criterion='squared_error', splitter='random')\n",
    "# Fit the model to the training data\n",
    "regressor.fit(X_train, y_train)\n",
    "# Predict the results\n",
    "y_pred = regressor.predict(X_test)\n",
    "\n",
    "from sklearn.metrics import r2_score\n",
    "# Calculate the R2 score\n",
    "r2 = r2_score(y_test, y_pred)\n",
    "print(f\"R2 Score: {r2}\")"
   ]
  },
  {
   "cell_type": "markdown",
   "id": "d61857f3",
   "metadata": {},
   "source": [
    "criterion='friedman_mse', splitter='best'"
   ]
  },
  {
   "cell_type": "code",
   "execution_count": 109,
   "id": "e7ce13e2",
   "metadata": {},
   "outputs": [
    {
     "name": "stdout",
     "output_type": "stream",
     "text": [
      "R2 Score: 0.7232010258509102\n"
     ]
    }
   ],
   "source": [
    "# Import the Decision Tree Regressor from sklearn.tree\n",
    "from sklearn.tree import DecisionTreeRegressor\n",
    "# Create the DecisionTreeRegressor with specific criterion and splitter\n",
    "regressor = DecisionTreeRegressor(criterion='friedman_mse', splitter='best')\n",
    "# Fit the model to the training data\n",
    "regressor.fit(X_train, y_train)\n",
    "# Predict the results\n",
    "y_pred = regressor.predict(X_test)\n",
    "\n",
    "from sklearn.metrics import r2_score\n",
    "# Calculate the R2 score\n",
    "r2 = r2_score(y_test, y_pred)\n",
    "print(f\"R2 Score: {r2}\")"
   ]
  },
  {
   "cell_type": "code",
   "execution_count": 110,
   "id": "050dc7f5",
   "metadata": {},
   "outputs": [
    {
     "name": "stdout",
     "output_type": "stream",
     "text": [
      "R2 Score: 0.7631996241425044\n"
     ]
    }
   ],
   "source": [
    "# Import the Decision Tree Regressor from sklearn.tree\n",
    "from sklearn.tree import DecisionTreeRegressor\n",
    "# Create the DecisionTreeRegressor with specific criterion and splitter\n",
    "regressor = DecisionTreeRegressor(criterion='friedman_mse', splitter='random')\n",
    "# Fit the model to the training data\n",
    "regressor.fit(X_train, y_train)\n",
    "# Predict the results\n",
    "y_pred = regressor.predict(X_test)\n",
    "\n",
    "from sklearn.metrics import r2_score\n",
    "# Calculate the R2 score\n",
    "r2 = r2_score(y_test, y_pred)\n",
    "print(f\"R2 Score: {r2}\")"
   ]
  },
  {
   "cell_type": "markdown",
   "id": "c8230e54",
   "metadata": {},
   "source": [
    "criterion='absolute_error', splitter='best'"
   ]
  },
  {
   "cell_type": "code",
   "execution_count": 111,
   "id": "4b6c9091",
   "metadata": {},
   "outputs": [
    {
     "name": "stdout",
     "output_type": "stream",
     "text": [
      "R2 Score: 0.683460593261744\n"
     ]
    }
   ],
   "source": [
    "# Import the Decision Tree Regressor from sklearn.tree\n",
    "from sklearn.tree import DecisionTreeRegressor\n",
    "# Create the DecisionTreeRegressor with specific criterion and splitter\n",
    "regressor = DecisionTreeRegressor(criterion='absolute_error', splitter='best')\n",
    "# Fit the model to the training data\n",
    "regressor.fit(X_train, y_train)\n",
    "# Predict the results\n",
    "y_pred = regressor.predict(X_test)\n",
    "\n",
    "from sklearn.metrics import r2_score\n",
    "# Calculate the R2 score\n",
    "r2 = r2_score(y_test, y_pred)\n",
    "print(f\"R2 Score: {r2}\")"
   ]
  },
  {
   "cell_type": "code",
   "execution_count": 112,
   "id": "7daa3ab3",
   "metadata": {},
   "outputs": [
    {
     "name": "stdout",
     "output_type": "stream",
     "text": [
      "R2 Score: 0.7177715716332422\n"
     ]
    }
   ],
   "source": [
    "# Import the Decision Tree Regressor from sklearn.tree\n",
    "from sklearn.tree import DecisionTreeRegressor\n",
    "# Create the DecisionTreeRegressor with specific criterion and splitter\n",
    "regressor = DecisionTreeRegressor(criterion='absolute_error', splitter='random')\n",
    "# Fit the model to the training data\n",
    "regressor.fit(X_train, y_train)\n",
    "# Predict the results\n",
    "y_pred = regressor.predict(X_test)\n",
    "\n",
    "from sklearn.metrics import r2_score\n",
    "# Calculate the R2 score\n",
    "r2 = r2_score(y_test, y_pred)\n",
    "print(f\"R2 Score: {r2}\")"
   ]
  },
  {
   "cell_type": "markdown",
   "id": "fd1e4c45",
   "metadata": {},
   "source": [
    "_______________________________________"
   ]
  },
  {
   "cell_type": "markdown",
   "id": "be35675b",
   "metadata": {},
   "source": [
    "#### Random Forest Regressor Model"
   ]
  },
  {
   "cell_type": "code",
   "execution_count": 113,
   "id": "4686fc71",
   "metadata": {},
   "outputs": [
    {
     "name": "stderr",
     "output_type": "stream",
     "text": [
      "/home/deehub/JoinDeeHub/.venv/lib/python3.10/site-packages/sklearn/base.py:1389: DataConversionWarning: A column-vector y was passed when a 1d array was expected. Please change the shape of y to (n_samples,), for example using ravel().\n",
      "  return fit_method(estimator, *args, **kwargs)\n"
     ]
    },
    {
     "name": "stdout",
     "output_type": "stream",
     "text": [
      "\n",
      " R2 Score: 0.8751002051529456\n"
     ]
    }
   ],
   "source": [
    "# Import the Random Forest Regressor from sklearn.ensemble\n",
    "###### We know under Random Forest Regressor, have sklearn.ensemble, sklearn.bagging, sklearn.boostrapping, sklearn.randomfeaturesselection\n",
    "from sklearn.ensemble import RandomForestRegressor\n",
    "# Create the Random Forest Regressor model\n",
    "regressor = RandomForestRegressor(n_estimators=100, random_state=42)\n",
    "# Fit the model to the training data\n",
    "regressor.fit(X_train, y_train)\n",
    "# Predict the results\n",
    "y_pred = regressor.predict(X_test)\n",
    "from sklearn.metrics import r2_score\n",
    "# Calculate the R2 score\n",
    "r2 = r2_score(y_test, y_pred)\n",
    "print(f\"\\n R2 Score: {r2}\")"
   ]
  },
  {
   "cell_type": "markdown",
   "id": "1f7bcda3",
   "metadata": {},
   "source": [
    "_______________________________________"
   ]
  },
  {
   "cell_type": "markdown",
   "id": "c4030d12",
   "metadata": {},
   "source": [
    "# 5.) All the research values (r2_score of the models) should be documented.\n",
    "# (You can make tabulation or screenshot of the results.)\n",
    "\n",
    "| Model                       | Kernel/Criterion                    | R² Score |\n",
    "| --------------------------- | ----------------------------------- | -------- |\n",
    "| Linear Regression           | -                                   | **0.80** |\n",
    "| SVR                         | linear                              | 0.65     |\n",
    "| SVR                         | rbf                                 | 0.89     |\n",
    "| SVR                         | poly                                | 0.66     |\n",
    "| SVR                         | sigmoid                             | 0.54     |\n",
    "| Decision Tree Regressor     | poisson, random                     | 0.79     |\n",
    "| Decision Tree Regressor     | poisson, best                       | 0.79     |\n",
    "| Decision Tree Regressor     | squared\\_error, best                | 0.75     |\n",
    "| Decision Tree Regressor     | squared\\_error, random              | 0.72     |\n",
    "| Decision Tree Regressor     | friedman\\_mse, best                 | 0.73     |\n",
    "| Decision Tree Regressor     | friedman\\_mse, random               | 0.77     |\n",
    "| Decision Tree Regressor     | absolute\\_error, best               | 0.69     |\n",
    "| Decision Tree Regressor     | absolute\\_error, random             | 0.72     |\n",
    "| **Random Forest Regressor** | n\\_estimators=100, random\\_state=42 | **0.88** |\n"
   ]
  },
  {
   "cell_type": "markdown",
   "id": "52479b0c",
   "metadata": {},
   "source": [
    "_______________________________________"
   ]
  },
  {
   "cell_type": "markdown",
   "id": "c95a5783",
   "metadata": {},
   "source": [
    "# 6.) Mention your final model, justify why u have chosen the same."
   ]
  },
  {
   "cell_type": "markdown",
   "id": "27ce7373",
   "metadata": {},
   "source": [
    "Final Model Justification\n",
    "Chosen Model: Random Forest Regressor\n",
    "Why?\n",
    "\n",
    "Achieved the highest R² score of 0.88\n",
    "\n",
    "Robust to overfitting compared to decision trees\n",
    "\n",
    "Handles feature importance well\n",
    "\n",
    "Works well with both categorical and numerical features\n",
    "\n",
    "## Conclusion :\n",
    "The Random Forest Regressor was selected as the final model due to its superior accuracy and robustness in handling the data. With an R² score of 0.88, it provides the most reliable predictions for insurance charges based on client attributes.\n",
    "\n"
   ]
  }
 ],
 "metadata": {
  "kernelspec": {
   "display_name": "Python 3 (ipykernel)",
   "language": "python",
   "name": "python3"
  },
  "language_info": {
   "codemirror_mode": {
    "name": "ipython",
    "version": 3
   },
   "file_extension": ".py",
   "mimetype": "text/x-python",
   "name": "python",
   "nbconvert_exporter": "python",
   "pygments_lexer": "ipython3",
   "version": "3.10.12"
  }
 },
 "nbformat": 4,
 "nbformat_minor": 5
}
