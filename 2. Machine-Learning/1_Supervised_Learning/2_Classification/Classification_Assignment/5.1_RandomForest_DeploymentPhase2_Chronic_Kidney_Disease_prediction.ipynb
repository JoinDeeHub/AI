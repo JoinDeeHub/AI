{
 "cells": [
  {
   "cell_type": "markdown",
   "id": "fb401eb7",
   "metadata": {},
   "source": []
  },
  {
   "cell_type": "code",
   "execution_count": null,
   "id": "1b8af1f3",
   "metadata": {},
   "outputs": [],
   "source": [
    "import pickle\n",
    "good_fit_model_filename = \"random_forest_classification_model.sav\"\n",
    "# Load the model from a file\n",
    "loaded_model = pickle.load(open(good_fit_model_filename, 'rb'))\n",
    "# Make predictions using the loaded model\n",
    "loaded_predictions = loaded_model.predict(X_test)\n",
    "\n",
    "# Check if the loaded predictions match the original predictions\n",
    "if np.array_equal(grid_predictions, loaded_predictions):\n",
    "\tprint(f\"\\nModel saved to {good_fit_model_filename} and loaded successfully. Predictions match.\\n\")\n",
    "else:\n",
    "\tprint(f\"\\nModel saved to {good_fit_model_filename} and loaded successfully, but predictions do NOT match!\\n\")\n",
    "\t# Optionally, print mismatches for debugging\n",
    "\tmismatches = np.where(grid_predictions != loaded_predictions)[0]\n",
    "\tprint(f\"Number of mismatches: {len(mismatches)}\")\n",
    "\tprint(f\"Indices of mismatches: {mismatches}\")\n",
    " \n",
    "# Display the best parameters found by GridSearchCV\n",
    "print(f\"Best parameters found: {grid.best_params_}\\n\")\n",
    "\n",
    "# Display the best score achieved by GridSearchCV\n",
    "print(f\"Best score achieved: {grid.best_score_}\\n\")\n",
    "\n",
    "# Display the feature importances\n",
    "importances = grid.best_estimator_.feature_importances_\n",
    "print(f\"Feature importances: {importances}\\n\")\n",
    "# Display the feature names\n",
    "feature_names = independent.columns\n",
    "print(f\"Feature names: {feature_names.tolist()}\\n\")\n",
    "# Display the feature importances in a DataFrame\n",
    "feature_importances_df = pd.DataFrame({'Feature': feature_names, 'Importance': importances})\n",
    "# Sort the DataFrame by importance\n",
    "feature_importances_df = feature_importances_df.sort_values(by='Importance', ascending=False)\n",
    "# Display the sorted feature importances\n",
    "print(\"Feature importances sorted by importance:\\n\", feature_importances_df)\n",
    "# Plotting the feature importances\n",
    "plt.figure(figsize=(10, 6))\n",
    "plt.barh(feature_importances_df['Feature'], feature_importances_df['Importance'], color='skyblue')\n",
    "plt.xlabel('Importance')\n",
    "plt.title('Feature Importances from Random Forest Classifier')\n",
    "plt.gca().invert_yaxis()  # Invert y-axis to have the most important feature on top\n",
    "plt.show()          \n"
   ]
  },
  {
   "cell_type": "code",
   "execution_count": null,
   "id": "c940290e",
   "metadata": {},
   "outputs": [],
   "source": []
  },
  {
   "cell_type": "code",
   "execution_count": null,
   "id": "c9106193",
   "metadata": {},
   "outputs": [],
   "source": []
  }
 ],
 "metadata": {
  "kernelspec": {
   "display_name": "AI",
   "language": "python",
   "name": "python3"
  },
  "language_info": {
   "codemirror_mode": {
    "name": "ipython",
    "version": 3
   },
   "file_extension": ".py",
   "mimetype": "text/x-python",
   "name": "python",
   "nbconvert_exporter": "python",
   "pygments_lexer": "ipython3",
   "version": "3.13.2"
  }
 },
 "nbformat": 4,
 "nbformat_minor": 5
}
