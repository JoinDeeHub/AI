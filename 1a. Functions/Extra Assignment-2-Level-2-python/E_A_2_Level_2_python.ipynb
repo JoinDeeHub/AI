{
 "cells": [
  {
   "cell_type": "markdown",
   "id": "f3ad7181",
   "metadata": {},
   "source": [
    "# Print 0 to 20 by using range "
   ]
  },
  {
   "cell_type": "code",
   "execution_count": 4,
   "id": "221a9e67",
   "metadata": {},
   "outputs": [
    {
     "name": "stdout",
     "output_type": "stream",
     "text": [
      "0\n",
      "1\n",
      "2\n",
      "3\n",
      "4\n",
      "5\n",
      "6\n",
      "7\n",
      "8\n",
      "9\n",
      "10\n",
      "11\n",
      "12\n",
      "13\n",
      "14\n",
      "15\n",
      "16\n",
      "17\n",
      "18\n",
      "19\n",
      "20\n"
     ]
    }
   ],
   "source": [
    "for a in range(0,21):\n",
    "    print(a)"
   ]
  },
  {
   "cell_type": "markdown",
   "id": "cb982b3a",
   "metadata": {},
   "source": [
    "# Print range 10 to 20"
   ]
  },
  {
   "cell_type": "code",
   "execution_count": 6,
   "id": "da279e1f",
   "metadata": {},
   "outputs": [
    {
     "name": "stdout",
     "output_type": "stream",
     "text": [
      "10 11 12 13 14 15 16 17 18 19 20 "
     ]
    }
   ],
   "source": [
    "for a in range(10,21):\n",
    "    print(a, end=' ')"
   ]
  },
  {
   "cell_type": "markdown",
   "id": "b780490f",
   "metadata": {},
   "source": [
    "# Print number of items in the list by using 'len'"
   ]
  },
  {
   "cell_type": "code",
   "execution_count": 16,
   "id": "1dcc2c51",
   "metadata": {},
   "outputs": [
    {
     "name": "stdout",
     "output_type": "stream",
     "text": [
      "Number of item in the List: \n",
      "7\n"
     ]
    }
   ],
   "source": [
    "list = [10, 20, 14, 55, 43, 87, 76]\n",
    "\n",
    "print(f\"Number of item in the List: \\n{len(list)}\")"
   ]
  }
 ],
 "metadata": {
  "kernelspec": {
   "display_name": "base",
   "language": "python",
   "name": "python3"
  },
  "language_info": {
   "codemirror_mode": {
    "name": "ipython",
    "version": 3
   },
   "file_extension": ".py",
   "mimetype": "text/x-python",
   "name": "python",
   "nbconvert_exporter": "python",
   "pygments_lexer": "ipython3",
   "version": "3.12.7"
  }
 },
 "nbformat": 4,
 "nbformat_minor": 5
}
