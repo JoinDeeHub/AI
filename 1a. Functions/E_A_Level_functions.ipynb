{
 "cells": [
  {
   "cell_type": "markdown",
   "id": "226b76b1",
   "metadata": {},
   "source": [
    "# Create a class and function, and list out the items in the list"
   ]
  },
  {
   "cell_type": "code",
   "execution_count": 24,
   "id": "d0db2905",
   "metadata": {},
   "outputs": [],
   "source": [
    "#SubfieldsInAI.Subfields() \n",
    "class SubfieldsInAI:\n",
    "    def Subfields():\n",
    "        sub_list = [\"Machine Learning\", \"Neural Networks\", \"Vision.\" \"Robotics\", \"Speech Processing\", \"Natural Language Processing\"]\n",
    "        print(f\"Sub-fields in AI are:\")\n",
    "        for item in sub_list:\n",
    "            print(item)\n"
   ]
  },
  {
   "cell_type": "code",
   "execution_count": 27,
   "id": "3e11859a",
   "metadata": {},
   "outputs": [
    {
     "name": "stdout",
     "output_type": "stream",
     "text": [
      "Sub-fields in AI are:\n",
      "Machine Learning\n",
      "Neural Networks\n",
      "Vision.Robotics\n",
      "Speech Processing\n",
      "Natural Language Processing\n"
     ]
    }
   ],
   "source": [
    "SubfieldsInAI.Subfields()"
   ]
  },
  {
   "cell_type": "markdown",
   "id": "5b81bac5",
   "metadata": {},
   "source": []
  },
  {
   "cell_type": "markdown",
   "id": "45b2c2f2",
   "metadata": {},
   "source": [
    "# Create a function that checks whether the given number is Odd or Even "
   ]
  },
  {
   "cell_type": "code",
   "execution_count": 28,
   "id": "e6e687ef",
   "metadata": {},
   "outputs": [],
   "source": [
    "class OddEven():\n",
    "    def OddEven():\n",
    "        number = int(input(f\"Enter a number: \")) #Also can use this method - def OddEven(number): print(f\"Enter a number: {number}\")\n",
    "        if number % 2 == 0:\n",
    "            print(f\"{number} is Even number.\")\n",
    "        else:\n",
    "            print(f\"{number} is Odd number.\")\n",
    "        #return number"
   ]
  },
  {
   "cell_type": "code",
   "execution_count": 29,
   "id": "14a3c3dc",
   "metadata": {},
   "outputs": [
    {
     "name": "stdout",
     "output_type": "stream",
     "text": [
      "52452 is Even number.\n"
     ]
    }
   ],
   "source": [
    "# Call the OddEven function with the number 52452\n",
    "OddEven.OddEven()"
   ]
  },
  {
   "cell_type": "markdown",
   "id": "faf69913",
   "metadata": {},
   "source": []
  },
  {
   "cell_type": "markdown",
   "id": "cc059d08",
   "metadata": {},
   "source": [
    "# Create a function that tells elegibility of marriage for male and female according to their age limit like 21 for male and 18 for female"
   ]
  },
  {
   "cell_type": "code",
   "execution_count": 33,
   "id": "a5c9df9d",
   "metadata": {},
   "outputs": [],
   "source": [
    "class ElegiblityForMarriage():\n",
    "    def Elegible():\n",
    "        gender = input(\"Your Gender:\") #Mention Male or Female\n",
    "        age = int(input(\"Your Age:\"))\n",
    "        if (gender.upper() == \"MALE\" and age >= 21) or (gender.upper() == \"FEMALE\" and age >= 18):\n",
    "            print(\"ELIGIBLE\")\n",
    "        else:\n",
    "            print(\"NOT ELIGIBLE\")"
   ]
  },
  {
   "cell_type": "code",
   "execution_count": 35,
   "id": "2862375e",
   "metadata": {},
   "outputs": [
    {
     "name": "stdout",
     "output_type": "stream",
     "text": [
      "NOT ELIGIBLE\n"
     ]
    }
   ],
   "source": [
    "ElegiblityForMarriage.Elegible()"
   ]
  },
  {
   "cell_type": "markdown",
   "id": "775ac2b9",
   "metadata": {},
   "source": []
  },
  {
   "cell_type": "markdown",
   "id": "c60ddea6",
   "metadata": {},
   "source": [
    "# Calculate the percentage of your 10th mark "
   ]
  },
  {
   "cell_type": "code",
   "execution_count": 43,
   "id": "12972cf4",
   "metadata": {},
   "outputs": [],
   "source": [
    "class FindPercent():\n",
    "    def percentage():\n",
    "        Subject1 = 98\n",
    "        print(f\"Subject1= {Subject1}\")\n",
    "        Subject2 = 87 \n",
    "        print(f\"Subject2= {Subject2}\")\n",
    "        Subject3 = 95 \n",
    "        print(f\"Subject3= {Subject3}\")\n",
    "        Subject4 = 95 \n",
    "        print(f\"Subject4= {Subject4}\")\n",
    "        Subject5 = 93 \n",
    "        print(f\"Subject5= {Subject5}\")\n",
    "        Total = Subject1 + Subject2 + Subject3 + Subject4 + Subject5\n",
    "        Percentage = (Total / 500) * 100\n",
    "        print(f\"Total :  {Total} \\nPercentage :  {Percentage}\")"
   ]
  },
  {
   "cell_type": "code",
   "execution_count": 44,
   "id": "83739c1f",
   "metadata": {},
   "outputs": [
    {
     "name": "stdout",
     "output_type": "stream",
     "text": [
      "Subject1= 98\n",
      "Subject2= 87\n",
      "Subject3= 95\n",
      "Subject4= 95\n",
      "Subject5= 93\n",
      "Total :  468 \n",
      "Percentage :  93.60000000000001\n"
     ]
    }
   ],
   "source": [
    "FindPercent.percentage() "
   ]
  },
  {
   "cell_type": "markdown",
   "id": "121220f0",
   "metadata": {},
   "source": []
  },
  {
   "cell_type": "markdown",
   "id": "c8fcff89",
   "metadata": {},
   "source": [
    "# Print area and perimeter of triangle using class and functions"
   ]
  },
  {
   "cell_type": "markdown",
   "id": "7b3c5777",
   "metadata": {},
   "source": [
    "triangle.triangle() \n",
    "\n",
    "Height:32 \n",
    "Breadth:34 \n",
    "Area formula: (Height*Breadth)/2 \n",
    "Area of Triangle:  544.0 \n",
    "Height1:2 \n",
    "Height2:4 \n",
    "Breadth:4 \n",
    "Perimeter formula: Height1+Height2+Breadth \n",
    "Perimeter of Triangle:  10 "
   ]
  },
  {
   "cell_type": "code",
   "execution_count": 46,
   "id": "d8bfa58a",
   "metadata": {},
   "outputs": [],
   "source": [
    "class triangle():\n",
    "    def triangle(): \n",
    "        Height = 32 \n",
    "        print(f\"Height:{Height}\")\n",
    "        Breadth = 34 \n",
    "        print(f\"Breadth:{Breadth}\")\n",
    "        Area_formula = (Height*Breadth)/2 \n",
    "        print(f\"Area formula: (Height*Breadth)/2\")\n",
    "        print(f\"Area of Triangle:  {Area_formula}\")\n",
    "        Height1 = 2 \n",
    "        print(f\"Height1:{Height1}\")\n",
    "        Height2 = 4 \n",
    "        print(f\"Height2:{Height2}\")\n",
    "        Breadth = 4 \n",
    "        print(f\"Breadth:{Breadth}\")\n",
    "        Perimeter_formula = Height1+Height2+Breadth \n",
    "        print(f\"Perimeter formula: Height1+Height2+Breadth\")\n",
    "        print(f\"Perimeter of Triangle:  {Perimeter_formula}\")"
   ]
  },
  {
   "cell_type": "code",
   "execution_count": 47,
   "id": "b0399ca1",
   "metadata": {},
   "outputs": [
    {
     "name": "stdout",
     "output_type": "stream",
     "text": [
      "Height:32\n",
      "Breadth:34\n",
      "Area formula: (Height*Breadth)/2\n",
      "Area of Triangle:  544.0\n",
      "Height1:2\n",
      "Height2:4\n",
      "Breadth:4\n",
      "Perimeter formula: Height1+Height2+Breadth\n",
      "Perimeter of Triangle:  10\n"
     ]
    }
   ],
   "source": [
    "triangle.triangle() "
   ]
  }
 ],
 "metadata": {
  "kernelspec": {
   "display_name": "base",
   "language": "python",
   "name": "python3"
  },
  "language_info": {
   "codemirror_mode": {
    "name": "ipython",
    "version": 3
   },
   "file_extension": ".py",
   "mimetype": "text/x-python",
   "name": "python",
   "nbconvert_exporter": "python",
   "pygments_lexer": "ipython3",
   "version": "3.12.7"
  }
 },
 "nbformat": 4,
 "nbformat_minor": 5
}
