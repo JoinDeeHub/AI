{
 "cells": [
  {
   "cell_type": "markdown",
   "id": "01981531",
   "metadata": {},
   "source": [
    "\n",
    "\n",
    "# **Assignment-1-Control Structures-Question**\n"
   ]
  },
  {
   "cell_type": "code",
   "execution_count": 1,
   "id": "22e3130f",
   "metadata": {},
   "outputs": [
    {
     "name": "stdout",
     "output_type": "stream",
     "text": [
      "Welcome to Assignment-1\n"
     ]
    }
   ],
   "source": [
    "print(\"Welcome to Assignment-1\")"
   ]
  },
  {
   "cell_type": "markdown",
   "id": "9dd80575",
   "metadata": {},
   "source": [
    "\n"
   ]
  },
  {
   "cell_type": "code",
   "execution_count": null,
   "id": "eda37b76",
   "metadata": {},
   "outputs": [
    {
     "name": "stdout",
     "output_type": "stream",
     "text": [
      "Num1= 10\n",
      "Num2= 20\n",
      "Add= 30\n",
      "\n"
     ]
    }
   ],
   "source": [
    "\n",
    "Num1=int(int(input(\"Enter the first number: \")))\n",
    "Num2=int(input(\"Enter the second number: \"))\n",
    "Add=Num1+Num2\n",
    "\n",
    "print(f\"Num1= {Num1}\\nNum2= {Num2}\\nAdd= {Add}\\n\")"
   ]
  },
  {
   "cell_type": "markdown",
   "id": "b5b585dd",
   "metadata": {},
   "source": [
    "\n"
   ]
  },
  {
   "cell_type": "markdown",
   "id": "3a2090ba",
   "metadata": {},
   "source": [
    "\n",
    "# Body Mass Index"
   ]
  },
  {
   "cell_type": "code",
   "execution_count": null,
   "id": "c68c3610",
   "metadata": {},
   "outputs": [
    {
     "name": "stdout",
     "output_type": "stream",
     "text": [
      "Enter the BMI Index:34\n",
      "Very Overweight\n"
     ]
    }
   ],
   "source": [
    "bmi=int(input(\"Enter the BMI Index:\"))\n",
    "print(f\"Enter the BMI Index:{bmi}\") #as in the example\n",
    "#BMI Index\n",
    "if bmi<18.5:\n",
    "    print(\"Underweight\")\n",
    "elif bmi>=18.5 and bmi<=24.9:\n",
    "    print(\"Normal weight\")\n",
    "elif bmi>=25 and bmi<=29.9:\n",
    "    print(\"Overwight\")\n",
    "elif bmi>30:\n",
    "    print(\"Very Overweight\")"
   ]
  }
 ],
 "metadata": {
  "kernelspec": {
   "display_name": "base",
   "language": "python",
   "name": "python3"
  },
  "language_info": {
   "codemirror_mode": {
    "name": "ipython",
    "version": 3
   },
   "file_extension": ".py",
   "mimetype": "text/x-python",
   "name": "python",
   "nbconvert_exporter": "python",
   "pygments_lexer": "ipython3",
   "version": "3.12.7"
  }
 },
 "nbformat": 4,
 "nbformat_minor": 5
}
