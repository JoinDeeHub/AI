{
 "cells": [
  {
   "cell_type": "markdown",
   "id": "c6a6a2ac",
   "metadata": {},
   "source": [
    "# Print 'CORRECT' if i == 10 "
   ]
  },
  {
   "cell_type": "code",
   "execution_count": 2,
   "id": "f20d5406",
   "metadata": {},
   "outputs": [
    {
     "name": "stdout",
     "output_type": "stream",
     "text": [
      "value: 10\n",
      "'Corret'\n"
     ]
    }
   ],
   "source": [
    "i = int(input(\"Enter a number: \")) \n",
    "print(\"value:\", i)\n",
    "if i == 10:\n",
    "    print(\"'Corret'\")\n",
    "else:\n",
    "    print(\"'WRONG'\")\n"
   ]
  },
  {
   "cell_type": "markdown",
   "id": "f47ea99c",
   "metadata": {},
   "source": [
    "# Check the password, using if and else"
   ]
  },
  {
   "cell_type": "code",
   "execution_count": 5,
   "id": "d4359e81",
   "metadata": {},
   "outputs": [
    {
     "name": "stdout",
     "output_type": "stream",
     "text": [
      "Enter the password: HOPE@123\n",
      "Your password is correct\n"
     ]
    }
   ],
   "source": [
    "password = input(\"Enter the password: \")\n",
    "print(f\"Enter the password: {password}\")\n",
    "if password == \"HOPE@123\":\n",
    "    print(\"Your password is correct\")\n",
    "else:\n",
    "    print(\"Your password is incorrect\")"
   ]
  },
  {
   "cell_type": "markdown",
   "id": "8135d192",
   "metadata": {},
   "source": [
    "# Catagory the people by their age like children, adult, citizen, senior citizen... "
   ]
  },
  {
   "cell_type": "code",
   "execution_count": 10,
   "id": "f67f1dd4",
   "metadata": {},
   "outputs": [
    {
     "name": "stdout",
     "output_type": "stream",
     "text": [
      "Enter your age: 20\n",
      "Adult\n"
     ]
    }
   ],
   "source": [
    "age = int(input(\"Enter your age: \"))\n",
    "print(f\"Enter your age: {age}\")\n",
    "if age < 0:\n",
    "    print(\"Invalid age\")\n",
    "elif age <= 18:\n",
    "    print(\"children\")\n",
    "elif age >= 18 and age <= 30:\n",
    "    print(\"Adult\")\n",
    "elif age >= 30 and age <= 59:\n",
    "    print(\"citizen\")\n",
    "elif age >= 60:\n",
    "    print(\"senior citizen\")\n",
    "    "
   ]
  },
  {
   "cell_type": "markdown",
   "id": "aa2dc464",
   "metadata": {},
   "source": [
    "# Find whether given number is positive or negative"
   ]
  },
  {
   "cell_type": "code",
   "execution_count": 12,
   "id": "73af787b",
   "metadata": {},
   "outputs": [
    {
     "name": "stdout",
     "output_type": "stream",
     "text": [
      "Enter any number: 1\n",
      "No is positive\n"
     ]
    }
   ],
   "source": [
    "num = int(input(\"Enter any number: \"))\n",
    "print(f\"Enter any number: {num}\")\n",
    "if num < 0:\n",
    "    print(\"No is negative\")\n",
    "elif num == 0:\n",
    "    print(\"No is zero\")\n",
    "else:\n",
    "    print(\"No is positive\")"
   ]
  },
  {
   "cell_type": "markdown",
   "id": "25fc4dab",
   "metadata": {},
   "source": [
    "# Check whether the given number is divisible by 5"
   ]
  },
  {
   "cell_type": "code",
   "execution_count": 15,
   "id": "c2f184c4",
   "metadata": {},
   "outputs": [
    {
     "name": "stdout",
     "output_type": "stream",
     "text": [
      "Enter a number to check: 22\n",
      "No is not divisible by 5\n"
     ]
    }
   ],
   "source": [
    "num = int(input(\"Enter a number to check: \"))\n",
    "print(f\"Enter a number to check: {num}\")\n",
    "if num % 5 == 0:\n",
    "    print(\"No is divisible by 5\")\n",
    "else:\n",
    "    print(\"No is not divisible by 5\")"
   ]
  }
 ],
 "metadata": {
  "kernelspec": {
   "display_name": "base",
   "language": "python",
   "name": "python3"
  },
  "language_info": {
   "codemirror_mode": {
    "name": "ipython",
    "version": 3
   },
   "file_extension": ".py",
   "mimetype": "text/x-python",
   "name": "python",
   "nbconvert_exporter": "python",
   "pygments_lexer": "ipython3",
   "version": "3.12.7"
  }
 },
 "nbformat": 4,
 "nbformat_minor": 5
}
