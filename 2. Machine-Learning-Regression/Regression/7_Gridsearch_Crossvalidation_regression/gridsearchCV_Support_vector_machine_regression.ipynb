{
 "cells": [
  {
   "cell_type": "markdown",
   "id": "c358485f",
   "metadata": {},
   "source": [
    "#gridsearchCV_SVR"
   ]
  },
  {
   "cell_type": "code",
   "execution_count": null,
   "id": "d6c8a7dd",
   "metadata": {},
   "outputs": [],
   "source": [
    "import pandas as pd"
   ]
  },
  {
   "cell_type": "code",
   "execution_count": null,
   "id": "9657d038",
   "metadata": {},
   "outputs": [],
   "source": [
    "#load the dataset\n",
    "dataset = pd.read_csv('insurance_pre.csv')\n",
    "\n",
    "#dummy the categorical variables\n",
    "dataset = pd.get_dummies(dataset, drop_first=True)\n",
    "# Display the first few rows of the dataset\n",
    "dataset"
   ]
  },
  {
   "cell_type": "code",
   "execution_count": null,
   "id": "fb0ccc03",
   "metadata": {},
   "outputs": [],
   "source": [
    "# Define the features and target variable\n",
    "independent = dataset.drop('charges', axis=1)  \n",
    "#print(independent)\n",
    "dependent = dataset['charges']\n"
   ]
  },
  {
   "cell_type": "code",
   "execution_count": null,
   "id": "26ca63c7",
   "metadata": {},
   "outputs": [],
   "source": []
  },
  {
   "cell_type": "code",
   "execution_count": null,
   "id": "34311b98",
   "metadata": {},
   "outputs": [],
   "source": [
    "# Import necessary libraries for model training and evaluation\n",
    "from sklearn.model_selection import GridSearchCV\n",
    "from sklearn.svm import SVR"
   ]
  },
  {
   "cell_type": "code",
   "execution_count": null,
   "id": "46b0e6e5",
   "metadata": {},
   "outputs": [],
   "source": [
    "# Initialize the SVR with GridSearchCV\n",
    "# Create a GridSearchCV object with SVR\n",
    "grid_search = GridSearchCV(\n",
    "    estimator=SVR(),\n",
    "    param_grid={\n",
    "        'C': [10, 100, 1000, 2000, 3000],\n",
    "        'gamma': ['auto', 'scale'],\n",
    "        'kernel': ['linear', 'poly', 'rbf', 'sigmoid']\n",
    "    },\n",
    "    refit=True,\n",
    "    verbose=3,\n",
    "    n_jobs=-1\n",
    ")\n",
    "\n",
    "# Fit the model using GridSearchCV\n",
    "grid_search.fit(independent, dependent)\n",
    "\n",
    "# R2score value for best parameters\n",
    "print(f\"GridSearchCV Results R2score value for best parameters: {grid_search.best_params_}\")"
   ]
  },
  {
   "cell_type": "code",
   "execution_count": null,
   "id": "9b1c15ef",
   "metadata": {},
   "outputs": [],
   "source": [
    "# Get the results from GridSearchCV\n",
    "Results = GridSearchCV.cv_results_\n",
    "# Convert the results to a DataFrame for better readability\n",
    "Results_df = pd.DataFrame.from_dict(Results)\n",
    "Results_df"
   ]
  },
  {
   "cell_type": "code",
   "execution_count": null,
   "id": "bd454f89",
   "metadata": {},
   "outputs": [],
   "source": [
    "age_input = int(input(\"Enter the age: \"))\n",
    "bmi_input = float(input(\"Enter the BMI: \"))\n",
    "children_input = int(input(\"Enter the number of children: \"))\n",
    "sex_male_input = int(input(\"Enter 1 if you are male, 0 otherwise: \"))\n",
    "smoker_input = int(input(\"Enter 1 if you are a smoker, 0 otherwise: \"))"
   ]
  },
  {
   "cell_type": "code",
   "execution_count": null,
   "id": "3b47ca37",
   "metadata": {},
   "outputs": [],
   "source": [
    "# Create a DataFrame for the input data\n",
    "input_data = pd.DataFrame({\n",
    "    'age': [age_input],\n",
    "    'bmi': [bmi_input],\n",
    "    'children': [children_input],\n",
    "    'sex_male': [sex_male_input],\n",
    "    'smoker_yes': [smoker_input]\n",
    "})"
   ]
  },
  {
   "cell_type": "code",
   "execution_count": null,
   "id": "a4c7510e",
   "metadata": {},
   "outputs": [],
   "source": [
    "# Make predictions using the best model\n",
    "predictions = GridSearchCV.predict(input_data)\n",
    "print(f\"Predicted insurance charges: {predictions}\")"
   ]
  }
 ],
 "metadata": {
  "kernelspec": {
   "display_name": ".venv",
   "language": "python",
   "name": "python3"
  },
  "language_info": {
   "codemirror_mode": {
    "name": "ipython",
    "version": 3
   },
   "file_extension": ".py",
   "mimetype": "text/x-python",
   "name": "python",
   "nbconvert_exporter": "python",
   "pygments_lexer": "ipython3",
   "version": "3.12.7"
  }
 },
 "nbformat": 4,
 "nbformat_minor": 5
}
